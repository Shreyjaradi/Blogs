{
 "cells": [
  {
   "cell_type": "markdown",
   "metadata": {},
   "source": [
    "Handling Missing Values\n",
    "=====================\n",
    "To learn Data Science/Machine Learning one should have an idea about how to handle data with missing values.\n",
    "It is one of the most important step in Data Science domain. \n",
    "So, I am gonna tell you how to handle missing values. There are Two most popular ways: \n",
    "- By Removing the Data \n",
    "- By Imputing the Data\n",
    "Before starting, There are prerequisite  which are as follows : Python Language, pandas and numpy libraries.\n",
    "\n",
    "Let start with an example: \n",
    "In the following code I will import libraries which i am gonna use it and I am gonna create a dataframe.\n",
    "\n",
    "```\n",
    "import numpy as np\n",
    "import pandas as pd\n",
    "\n",
    "df = pd.DataFrame({'col1': [1, 2, np.nan, np.nan, 5, 6], \n",
    "                             'col2': [7, 8, np.nan, 10, 11, 12],\n",
    "                             'col3': [np.nan, 14, np.nan, 16, 17, 18]})\n",
    "df\n",
    "```\n",
    "\n",
    "So now we have a dataframe \"df\" which we use as our dataset.\n",
    "Let's First check our data.\n",
    " \n",
    "```\n",
    "df.shape[0] #\"0\"=Row and \"1\"=Column this shows total number of columns/rows in our dataset.  \n",
    "```\n",
    "Note : One should keep it in mind that \"0\" is used for rows and \"1\"  for column.\n",
    " \n",
    "Once we had the number of columns and row count. we can check the missing values in the dataset.\n",
    "```\n",
    "df.isnull().any() # This tells us that if we have any missing data.\n",
    "```\n",
    "Now, we know we have some missing values in our dataset, so let's check how many values for each columns.\n",
    "```\n",
    "df[df.isnull()== True].sum().count() #This will give you the count of missing values.\n",
    "\n",
    "no_nulls = set(df.columns[df.isnull()any()]) #Provide a set of columns with Null values.\n",
    "print(no_nulls)\n",
    "\n",
    "```\n",
    "We have idea about how our dataset is, and how many missing values does it have. Now we need to go to the next step i.e. \n",
    "removing the missing values/imputing missing values. \n",
    "Let's first go with Removing the missing values. \n",
    "\n",
    "#1. Removing Missing Values :\n",
    "------------------------------------------------\n",
    "\n",
    "```\n",
    "new_df = df.dropna(subset=['col2'], axis=0)# dataframe with rows for nan col2 removed\n",
    "new_df\n",
    "```\n",
    "To remove columns we need to change \"axis=1\" this will remove whole column.\n",
    "\n",
    "we can remove rows and columns based on our dataset.\n",
    "\n",
    "Removing data may also affect the result. So, one should  always be careful about what to remove and what not too.\n",
    "If there are certain rows or columns where data is missing 90% or 100% that one can consider it to remove that row or column \n",
    "(But one should always keep this point in a mind that the data they are removing should not affect their model)\n",
    "\n",
    "**Note: Be careful while removing data. it should not affect your model.**\n",
    "\n",
    "#2. Imputing Method : \n",
    "---------------------------------\n",
    "Imputation means that you input a value for values that were originally missing.\n",
    "Below are some common methods to impute the data :\n",
    " - Taking **Mean** of values and insert it.\n",
    " - Mode method. : If you are working with categorical data or a variable with outliers, then use the **mode** of the column. \n",
    " - Impute 0, a very small number, or a very large number to differentiate missing values from other values.\n",
    " - User can create a **ML model** with existing values and predict some values and insert it.\n",
    " \n",
    "\n",
    "This all methods depends on the data you have and you might seen the some difference of scores in your model.\n",
    "So i would advice to analyse the data well and then take decision.\n",
    "\n",
    "Following code will show how to impute the mean data.\n",
    "```\n",
    "fill_mean = lambda col: col.fillna(col.mean()) # Mean function\n",
    "\n",
    "fill_df = new_df.apply(fill_mean, axis=0) #Fill all missing values with the mean of the column.\n",
    "fill_df\n",
    " \n",
    "```\n",
    "To try other methods go through the offical documentation of [sklearn](https://scikit-learn.org/stable/), [pandas](https://pandas.pydata.org/pandas-docs/stable/getting_started/index.html), [numpy](https://numpy.org/)\n",
    " "
   ]
  },
  {
   "cell_type": "code",
   "execution_count": 30,
   "metadata": {
    "scrolled": true
   },
   "outputs": [
    {
     "data": {
      "text/html": [
       "<div>\n",
       "<style scoped>\n",
       "    .dataframe tbody tr th:only-of-type {\n",
       "        vertical-align: middle;\n",
       "    }\n",
       "\n",
       "    .dataframe tbody tr th {\n",
       "        vertical-align: top;\n",
       "    }\n",
       "\n",
       "    .dataframe thead th {\n",
       "        text-align: right;\n",
       "    }\n",
       "</style>\n",
       "<table border=\"1\" class=\"dataframe\">\n",
       "  <thead>\n",
       "    <tr style=\"text-align: right;\">\n",
       "      <th></th>\n",
       "      <th>col1</th>\n",
       "      <th>col2</th>\n",
       "      <th>col3</th>\n",
       "    </tr>\n",
       "  </thead>\n",
       "  <tbody>\n",
       "    <tr>\n",
       "      <th>0</th>\n",
       "      <td>1.0</td>\n",
       "      <td>7.0</td>\n",
       "      <td>NaN</td>\n",
       "    </tr>\n",
       "    <tr>\n",
       "      <th>1</th>\n",
       "      <td>2.0</td>\n",
       "      <td>8.0</td>\n",
       "      <td>14.0</td>\n",
       "    </tr>\n",
       "    <tr>\n",
       "      <th>2</th>\n",
       "      <td>NaN</td>\n",
       "      <td>NaN</td>\n",
       "      <td>NaN</td>\n",
       "    </tr>\n",
       "    <tr>\n",
       "      <th>3</th>\n",
       "      <td>NaN</td>\n",
       "      <td>10.0</td>\n",
       "      <td>16.0</td>\n",
       "    </tr>\n",
       "    <tr>\n",
       "      <th>4</th>\n",
       "      <td>5.0</td>\n",
       "      <td>11.0</td>\n",
       "      <td>17.0</td>\n",
       "    </tr>\n",
       "    <tr>\n",
       "      <th>5</th>\n",
       "      <td>6.0</td>\n",
       "      <td>12.0</td>\n",
       "      <td>18.0</td>\n",
       "    </tr>\n",
       "  </tbody>\n",
       "</table>\n",
       "</div>"
      ],
      "text/plain": [
       "   col1  col2  col3\n",
       "0   1.0   7.0   NaN\n",
       "1   2.0   8.0  14.0\n",
       "2   NaN   NaN   NaN\n",
       "3   NaN  10.0  16.0\n",
       "4   5.0  11.0  17.0\n",
       "5   6.0  12.0  18.0"
      ]
     },
     "execution_count": 30,
     "metadata": {},
     "output_type": "execute_result"
    }
   ],
   "source": [
    "import numpy as np\n",
    "import pandas as pd\n",
    "\n",
    "df = pd.DataFrame({'col1': [1, 2, np.nan, np.nan, 5, 6], \n",
    "                             'col2': [7, 8, np.nan, 10, 11, 12],\n",
    "                             'col3': [np.nan, 14, np.nan, 16, 17, 18]})\n",
    "df"
   ]
  },
  {
   "cell_type": "code",
   "execution_count": 17,
   "metadata": {},
   "outputs": [
    {
     "data": {
      "text/plain": [
       "6"
      ]
     },
     "execution_count": 17,
     "metadata": {},
     "output_type": "execute_result"
    }
   ],
   "source": [
    "df.shape[0]"
   ]
  },
  {
   "cell_type": "code",
   "execution_count": 16,
   "metadata": {},
   "outputs": [
    {
     "data": {
      "text/plain": [
       "col1    True\n",
       "col2    True\n",
       "col3    True\n",
       "dtype: bool"
      ]
     },
     "execution_count": 16,
     "metadata": {},
     "output_type": "execute_result"
    }
   ],
   "source": [
    "df.isnull().any()"
   ]
  },
  {
   "cell_type": "code",
   "execution_count": 15,
   "metadata": {},
   "outputs": [
    {
     "data": {
      "text/plain": [
       "3"
      ]
     },
     "execution_count": 15,
     "metadata": {},
     "output_type": "execute_result"
    }
   ],
   "source": [
    "df[df.isnull()== True].sum().count() "
   ]
  },
  {
   "cell_type": "code",
   "execution_count": 22,
   "metadata": {},
   "outputs": [
    {
     "name": "stdout",
     "output_type": "stream",
     "text": [
      "{'col2', 'col3', 'col1'}\n"
     ]
    }
   ],
   "source": [
    "no_nulls = set(df.columns[df.isnull().any()])\n",
    "print(no_nulls)"
   ]
  },
  {
   "cell_type": "code",
   "execution_count": 26,
   "metadata": {},
   "outputs": [
    {
     "data": {
      "text/html": [
       "<div>\n",
       "<style scoped>\n",
       "    .dataframe tbody tr th:only-of-type {\n",
       "        vertical-align: middle;\n",
       "    }\n",
       "\n",
       "    .dataframe tbody tr th {\n",
       "        vertical-align: top;\n",
       "    }\n",
       "\n",
       "    .dataframe thead th {\n",
       "        text-align: right;\n",
       "    }\n",
       "</style>\n",
       "<table border=\"1\" class=\"dataframe\">\n",
       "  <thead>\n",
       "    <tr style=\"text-align: right;\">\n",
       "      <th></th>\n",
       "      <th>col1</th>\n",
       "      <th>col2</th>\n",
       "      <th>col3</th>\n",
       "    </tr>\n",
       "  </thead>\n",
       "  <tbody>\n",
       "    <tr>\n",
       "      <th>0</th>\n",
       "      <td>1.0</td>\n",
       "      <td>7.0</td>\n",
       "      <td>NaN</td>\n",
       "    </tr>\n",
       "    <tr>\n",
       "      <th>1</th>\n",
       "      <td>2.0</td>\n",
       "      <td>8.0</td>\n",
       "      <td>14.0</td>\n",
       "    </tr>\n",
       "    <tr>\n",
       "      <th>3</th>\n",
       "      <td>NaN</td>\n",
       "      <td>10.0</td>\n",
       "      <td>16.0</td>\n",
       "    </tr>\n",
       "    <tr>\n",
       "      <th>4</th>\n",
       "      <td>5.0</td>\n",
       "      <td>11.0</td>\n",
       "      <td>17.0</td>\n",
       "    </tr>\n",
       "    <tr>\n",
       "      <th>5</th>\n",
       "      <td>6.0</td>\n",
       "      <td>12.0</td>\n",
       "      <td>18.0</td>\n",
       "    </tr>\n",
       "  </tbody>\n",
       "</table>\n",
       "</div>"
      ],
      "text/plain": [
       "   col1  col2  col3\n",
       "0   1.0   7.0   NaN\n",
       "1   2.0   8.0  14.0\n",
       "3   NaN  10.0  16.0\n",
       "4   5.0  11.0  17.0\n",
       "5   6.0  12.0  18.0"
      ]
     },
     "execution_count": 26,
     "metadata": {},
     "output_type": "execute_result"
    }
   ],
   "source": [
    "new_df = df.dropna(subset=['col2'], axis=0)\n",
    "new_df"
   ]
  },
  {
   "cell_type": "code",
   "execution_count": 29,
   "metadata": {},
   "outputs": [
    {
     "data": {
      "text/html": [
       "<div>\n",
       "<style scoped>\n",
       "    .dataframe tbody tr th:only-of-type {\n",
       "        vertical-align: middle;\n",
       "    }\n",
       "\n",
       "    .dataframe tbody tr th {\n",
       "        vertical-align: top;\n",
       "    }\n",
       "\n",
       "    .dataframe thead th {\n",
       "        text-align: right;\n",
       "    }\n",
       "</style>\n",
       "<table border=\"1\" class=\"dataframe\">\n",
       "  <thead>\n",
       "    <tr style=\"text-align: right;\">\n",
       "      <th></th>\n",
       "      <th>col1</th>\n",
       "      <th>col2</th>\n",
       "      <th>col3</th>\n",
       "    </tr>\n",
       "  </thead>\n",
       "  <tbody>\n",
       "    <tr>\n",
       "      <th>0</th>\n",
       "      <td>1.0</td>\n",
       "      <td>7.0</td>\n",
       "      <td>16.25</td>\n",
       "    </tr>\n",
       "    <tr>\n",
       "      <th>1</th>\n",
       "      <td>2.0</td>\n",
       "      <td>8.0</td>\n",
       "      <td>14.00</td>\n",
       "    </tr>\n",
       "    <tr>\n",
       "      <th>3</th>\n",
       "      <td>3.5</td>\n",
       "      <td>10.0</td>\n",
       "      <td>16.00</td>\n",
       "    </tr>\n",
       "    <tr>\n",
       "      <th>4</th>\n",
       "      <td>5.0</td>\n",
       "      <td>11.0</td>\n",
       "      <td>17.00</td>\n",
       "    </tr>\n",
       "    <tr>\n",
       "      <th>5</th>\n",
       "      <td>6.0</td>\n",
       "      <td>12.0</td>\n",
       "      <td>18.00</td>\n",
       "    </tr>\n",
       "  </tbody>\n",
       "</table>\n",
       "</div>"
      ],
      "text/plain": [
       "   col1  col2   col3\n",
       "0   1.0   7.0  16.25\n",
       "1   2.0   8.0  14.00\n",
       "3   3.5  10.0  16.00\n",
       "4   5.0  11.0  17.00\n",
       "5   6.0  12.0  18.00"
      ]
     },
     "execution_count": 29,
     "metadata": {},
     "output_type": "execute_result"
    }
   ],
   "source": [
    "fill_mean = lambda col: col.fillna(col.mean()) # Mean function\n",
    "\n",
    "fill_df = new_df.apply(fill_mean, axis=0) #Fill all missing values with the mean of the column.\n",
    "fill_df"
   ]
  }
 ],
 "metadata": {
  "kernelspec": {
   "display_name": "Python 3",
   "language": "python",
   "name": "python3"
  },
  "language_info": {
   "codemirror_mode": {
    "name": "ipython",
    "version": 3
   },
   "file_extension": ".py",
   "mimetype": "text/x-python",
   "name": "python",
   "nbconvert_exporter": "python",
   "pygments_lexer": "ipython3",
   "version": "3.7.4"
  }
 },
 "nbformat": 4,
 "nbformat_minor": 4
}
